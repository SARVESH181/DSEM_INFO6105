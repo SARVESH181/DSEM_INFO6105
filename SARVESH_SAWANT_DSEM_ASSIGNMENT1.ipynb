{
 "cells": [
  {
   "cell_type": "code",
   "execution_count": 12,
   "metadata": {},
   "outputs": [
    {
     "name": "stdout",
     "output_type": "stream",
     "text": [
      "QuinTESSential\n"
     ]
    }
   ],
   "source": [
    "'''\n",
    "If x = \"quintessential\", then slice x and do \n",
    "the appropriate operations to obtain QuinTESSential.\n",
    "'''\n",
    "x = \"quintessential\"\n",
    "res = x[0].upper()+x[1:4]+x[4:8].upper()+x[8:]\n",
    "print(res)"
   ]
  },
  {
   "cell_type": "code",
   "execution_count": 13,
   "metadata": {},
   "outputs": [
    {
     "name": "stdout",
     "output_type": "stream",
     "text": [
      "The bill will be paid by: Sarvesh\n"
     ]
    }
   ],
   "source": [
    "'''\n",
    "Write a Python program to select an item randomly from a list.\n",
    "'''\n",
    "import random\n",
    "mydata = ['Sarvesh','Animesh','Somnath','Harsh','Achintya']\n",
    "print(\"The bill will be paid by:\",random.choice(mydata))"
   ]
  },
  {
   "cell_type": "code",
   "execution_count": 14,
   "metadata": {},
   "outputs": [
    {
     "name": "stdout",
     "output_type": "stream",
     "text": [
      "[12, 14, 16, 18, 19, 20, 24]\n",
      "[12, 14, 16, 18, 20, 24]\n",
      "[12, 14, 16, 18, 20, 24, 28, 30]\n"
     ]
    }
   ],
   "source": [
    "'''\n",
    ": Consider listA = [12, 14, 16, 19, 20, 24]. \n",
    "1) To listA add 18 at index 3 \n",
    "2) To the list that was obtained from #1, remove 19\n",
    "3) To the list that was obtained from #2, extend [28, 30]\n",
    "'''\n",
    "\n",
    "listA = [12, 14, 16, 19, 20, 24]\n",
    "#Solution 1\n",
    "listA.insert(3, 18)\n",
    "print(listA)\n",
    "#Solution 2\n",
    "listA.remove(19)\n",
    "print(listA)\n",
    "#Solution 3\n",
    "for j in [28, 30]:\n",
    "    listA.append(j)\n",
    "print(listA)"
   ]
  },
  {
   "cell_type": "code",
   "execution_count": 15,
   "metadata": {},
   "outputs": [
    {
     "name": "stdout",
     "output_type": "stream",
     "text": [
      "Multiples of four in the list:  [24, 32]\n",
      "Multiples of three in the list:  [21, 24, 27]\n",
      "Multiples of six in the list:  [24]\n",
      "Multiples of three and six in the list:  [24]\n"
     ]
    }
   ],
   "source": [
    "'''\n",
    "B = [14, 21, 24, 27, 32]. \n",
    "1) Create a list that contains the multiples of 4 from B.\n",
    "2) Create a list that contains the multiples of 3 and 6.\n",
    "Use two methods (for and if loops,  list comprehension)\n",
    "'''\n",
    "\n",
    "B = [14, 21, 24, 27, 32]\n",
    "#Solution 1\n",
    "multiples_of_four = [y for y in B if y % 4 == 0]\n",
    "     \n",
    "print(\"Multiples of four in the list: \", multiples_of_four)\n",
    "\n",
    "#Solution 2\n",
    "multiples_of_three = [z for z in B if z % 3 == 0]\n",
    "multiples_of_six = [z for z in B if z % 6 == 0]\n",
    " \n",
    "print(\"Multiples of three in the list: \", multiples_of_three)\n",
    "print(\"Multiples of six in the list: \", multiples_of_six)\n",
    "\n",
    "def common(multiples_of_three,multiples_of_six): \n",
    "    com = [value for value in multiples_of_three if value in multiples_of_six] \n",
    "    return com\n",
    "d=common(multiples_of_three,multiples_of_six)\n",
    "print(\"Multiples of three and six in the list: \", d)\n"
   ]
  },
  {
   "cell_type": "code",
   "execution_count": 16,
   "metadata": {},
   "outputs": [
    {
     "name": "stdout",
     "output_type": "stream",
     "text": [
      "[-4, -2, -1]\n",
      "[5, -4, -2, -1]\n",
      "(5, -4, -2, -1)\n"
     ]
    }
   ],
   "source": [
    "'''\n",
    ": If tuple1 = (-4, -2, -1). Insert 5 at index 0 to tuple1.\n",
    "Read the output message carefully. \n",
    "'''\n",
    "\n",
    "tuple1 = (-4, -2, -1)\n",
    "my_tuple = list(tuple1)\n",
    "print(my_tuple)\n",
    "my_tuple.insert(0, 5)\n",
    "print(my_tuple)\n",
    "tuples = tuple(my_tuple)\n",
    "# Result\n",
    "print(tuples)\n",
    "\n"
   ]
  },
  {
   "cell_type": "code",
   "execution_count": 17,
   "metadata": {},
   "outputs": [
    {
     "name": "stdout",
     "output_type": "stream",
     "text": [
      "[-5, -2, -1, 1]\n",
      "-2\n",
      "[-5, -1, 1, -3]\n",
      "(-5, -1, 1, -3)\n"
     ]
    }
   ],
   "source": [
    "'''\n",
    " Convert tuple1 = (-4, -2, -1, 1) to a list and perform the \n",
    "following operations:\n",
    "1) To the list, change the value index 0 to -5.\n",
    "2) To the list that was obtained in #1, pop the value at index 1.\n",
    "3) To the list that was obtained from #2, append -3.\n",
    "4) Convert the list that was obtained in #3 to a tuple.\n",
    "'''\n",
    "\n",
    "tuple1 = (-4, -2, -1, 1)\n",
    "# Solution 1 :\n",
    "tuple1 = list(tuple1)\n",
    "tuple1[0] = -5\n",
    "print (tuple1)\n",
    "# Solution 2:\n",
    "print(tuple1.pop(1))\n",
    "# Solution 3:\n",
    "tuple1.append(-3)\n",
    "print(tuple1)\n",
    "#Solution 4:\n",
    "tuple1 = tuple(tuple1)\n",
    "print(tuple1)\n"
   ]
  },
  {
   "cell_type": "code",
   "execution_count": 18,
   "metadata": {},
   "outputs": [
    {
     "name": "stdout",
     "output_type": "stream",
     "text": [
      "{'France': 1789, 'India': 1947, 'USA': 1776, 'Brazil': 1822}\n",
      "Key = France, Value = 1789\n",
      "Key = India, Value = 1947\n",
      "Key = USA, Value = 1776\n",
      "Key = Brazil, Value = 1822\n"
     ]
    }
   ],
   "source": [
    "'''\n",
    " Define a dictionary with the following key value pairs:\n",
    "'France': 1789, 'India': 1947, 'USA': 1776, 'Brazil': 1822\n",
    "print the keys and values pair\n",
    "'''\n",
    "\n",
    "keys = ['France','India','USA','Brazil']\n",
    "values = [1789,1947,1776,1822]  \n",
    "  \n",
    "# This line shows dict comprehension here  \n",
    "myDict = { k:v for (k,v) in zip(keys, values)}  \n",
    "  \n",
    "\n",
    "# myDict = dict(zip(keys, values))  \n",
    "  \n",
    "print (myDict)\n",
    "\n",
    "countryyear = {\"France\": \"1789\", \"India\": \"1947\", \"USA\": \"1776\", \"Brazil\": \"1822\"}\n",
    "\n",
    "for key in countryyear:\n",
    "    print(\"Key = \" + key + \", Value = \" + countryyear[key])"
   ]
  },
  {
   "cell_type": "code",
   "execution_count": 19,
   "metadata": {},
   "outputs": [
    {
     "name": "stdout",
     "output_type": "stream",
     "text": [
      "{2: 8, 14: 2744, 16: 4096, 38: 54872}\n"
     ]
    }
   ],
   "source": [
    "'''\n",
    "listA = [2, 14, 16, 38]. Use dictionary comprehension to \n",
    "create a dictionary with item from listA as a key and its cube as a value.\n",
    "'''\n",
    "\n",
    "listA = [2, 14, 16, 38]\n",
    "dict_cube = {y: y*y*y for y in listA}\n",
    "print(dict_cube)\n"
   ]
  },
  {
   "cell_type": "code",
   "execution_count": 20,
   "metadata": {},
   "outputs": [
    {
     "name": "stdout",
     "output_type": "stream",
     "text": [
      "{'White', 'Black'}\n"
     ]
    }
   ],
   "source": [
    "'''\n",
    "Write a Python program to print out a set containing all the colors from color_list_1 which are not present in color_list_2.\n",
    "\n",
    "Test Data:\n",
    "color_list_1 = set([\"White\", \"Black\", \"Red\"])\n",
    "color_list_2 = set([\"Red\", \"Green\"])\n",
    "Expected Output :\n",
    "{'Black', 'White'}\n",
    "'''\n",
    "\n",
    "color_list_1 = set([\"White\", \"Black\", \"Red\"])\n",
    "color_list_2 = set([\"Red\", \"Green\"])\n",
    "set_diff = color_list_1 - color_list_2\n",
    "print(set_diff)"
   ]
  },
  {
   "cell_type": "code",
   "execution_count": 21,
   "metadata": {},
   "outputs": [
    {
     "name": "stdout",
     "output_type": "stream",
     "text": [
      "<class 'set'>\n",
      "{'aluminum', 'iron', 'copper'}\n",
      "{'aluminum': 1, 'iron': 3, 'copper': 2}\n"
     ]
    }
   ],
   "source": [
    "'''\n",
    "listB=['iron','copper','iron','aluminum','copper', 'iron'].\n",
    "1) Create a set for listB. \n",
    "2) Create a dictionary with the item from the set as the key and its occurence \n",
    "in listB as the value.\n",
    "'''\n",
    "# Solution 1:\n",
    "listB=['iron','copper','iron','aluminum','copper', 'iron']\n",
    "set_listB = set(['iron','copper','iron','aluminum','copper', 'iron'])\n",
    "print(type(set_listB))\n",
    "print(set_listB)\n",
    "\n",
    "# Solution 2:\n",
    "dict_listB = {i : listB.count(i) for i in set_listB}\n",
    "print(dict_listB)\n"
   ]
  },
  {
   "cell_type": "code",
   "execution_count": 22,
   "metadata": {},
   "outputs": [
    {
     "name": "stdout",
     "output_type": "stream",
     "text": [
      "{81, 49, 121}\n"
     ]
    }
   ],
   "source": [
    "'''\n",
    ": If listC = [-7, -11, -9, -7]. Use set comprehension \n",
    "to compute square of each item in listC.\n",
    "'''\n",
    "\n",
    "listC = [-7, -11, -9, -7]\n",
    "square_listC = set(number**2 for number in listC)\n",
    "\n",
    "print(square_listC)"
   ]
  },
  {
   "cell_type": "code",
   "execution_count": null,
   "metadata": {},
   "outputs": [],
   "source": []
  }
 ],
 "metadata": {
  "kernelspec": {
   "display_name": "Python 3 (ipykernel)",
   "language": "python",
   "name": "python3"
  },
  "language_info": {
   "codemirror_mode": {
    "name": "ipython",
    "version": 3
   },
   "file_extension": ".py",
   "mimetype": "text/x-python",
   "name": "python",
   "nbconvert_exporter": "python",
   "pygments_lexer": "ipython3",
   "version": "3.9.12"
  }
 },
 "nbformat": 4,
 "nbformat_minor": 4
}
