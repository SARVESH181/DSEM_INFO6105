{
 "cells": [
  {
   "cell_type": "code",
   "execution_count": 1,
   "id": "cf9cd99f",
   "metadata": {},
   "outputs": [],
   "source": [
    "import numpy as np\n",
    "import pandas as pd\n",
    "import matplotlib.pyplot as plt"
   ]
  },
  {
   "cell_type": "markdown",
   "id": "bea46112",
   "metadata": {},
   "source": [
    "What is machine learning? Where and why \n",
    "you will use machine learning? "
   ]
  },
  {
   "cell_type": "code",
   "execution_count": 2,
   "id": "8cee69dc",
   "metadata": {},
   "outputs": [],
   "source": [
    "#  What is Machine learning:\n",
    "# 1)\tMachine learning (ML) is a branch of Artificial Intelligence (AI) that enables us to train a machine in order to give accurate predictions and calculations in order to take accurate and effective decisions.\n",
    "# 2)\tMachine learning can also be stated as an area which is based on computational sciences which mainly emphasizes on analysis and interpretation of data in order to find out pattern and structures in it. It is also used to enable learning, reasoning and decision making in machines without human interaction.\n",
    "# 3)\tMachine learning uses algorithm to help the machine learn through examples through self improvement without explicit coding by the programmer.\n",
    "# 4)\tIt is like a data analytical technique which enables the machine to learn like humans and animals and this is through experience.\n",
    "\n",
    "#      Where do we use machine learning:\n",
    "# 1)\tHealth Care:\n",
    "# Helps us to make data driven decisions and better patient diagnosis as well as prevent disease. \n",
    "# 2)\tTransportation:\n",
    "# Dynamic pricing and useful for finding shortest path from source to destination. \n",
    "# 3)\tCustomer Service:\n",
    "# Chatbots and automatic translation system used for avoiding language barrier.\n",
    "# 4)\tBanking and Financial:\n",
    "# Helps banks and organizations to protect from fraud and also helps in stock market predictions and digital forecasting.\n",
    "\n",
    "# Why do we use machine learning?\n",
    "# 1)\tMachines can compute calculations and derive patterns in the data faster with the help of algorithms.\n",
    "# 2)\tThe algorithms used in machine learning are capable of handling large set of datasets and it can also handle complex datasets quite easily and efficiently.\n",
    "# 3)\tMachine learning algorithms are quite accurate as there are mathematical calculations that are used to derive to decisions.\n",
    "# 4)\tThey also help humans to take decisions without having emotional and human biases.''''''\n"
   ]
  },
  {
   "cell_type": "markdown",
   "id": "447d90d6",
   "metadata": {},
   "source": [
    "What is normalization and why do you \n",
    "perform? Explain with examples. How do you  \n",
    "perform it? "
   ]
  },
  {
   "cell_type": "code",
   "execution_count": 3,
   "id": "75e50011",
   "metadata": {},
   "outputs": [],
   "source": [
    "# What is normalization?\n",
    "\n",
    "# Normalization is basically rearranging of the data in the database in order to attain maximum accuracy out of it while doing computations.\n",
    "# This means that the data that is present in the database should not be redundant and all the data which is related should be stored at one place,\n",
    "# so that there can be computations performed on it.\n",
    "# Different Types of Normal form are:\n",
    "#     1) First Normal Form\n",
    "#     2) Second Normal Form\n",
    "#     3) Third Normal Form\n",
    "#     4) Boyce Codd Normal Form\n",
    "\n",
    "# Why do we perform Normalization:\n",
    "   \n",
    "# There are a various reasons as to why we have to perform Normalization, one out of which is that we can reduce the space the database occupies on the disk.\n",
    "# This facilitates in increased performance of the system. \n",
    "# Normalization deals with the redundant values and missing values.\n",
    "# As there are no redundant or missing values in the database the computation then becomes easier with the help of algorithm.\n",
    "# Normalization also helps us to get all the data at one single place and aslo helps to get rid of duplicate values.\n",
    "\n",
    "# How do we perform Normalization:\n",
    "#     The data that we get from the user will generally be unnormalized.\n",
    "#     There are basically 3 steps to carry out normalization:\n",
    "#         1) Removing of repeating groups.\n",
    "#         2) Removing the partial dependencies.\n",
    "#         3) Removing the transitive dependencies.\n",
    "# The formula to carry out Normalization is: \n",
    "#     zi = (xi – min(x)) / (max(x) – min(x)) * 100\n",
    "# There are various methods which help us to carry out normalization and they are (i) Min - Max Normalization, (ii) Z-Score Normalization\n",
    "#   (iii) Categorical Data  \n",
    "# Example:\n",
    "#     If one Employee (e.g. Sean) is present in 2 projects of a building, then if we need to update the city of that particular employee\n",
    "#     then we will have to update the city of all the employees and thus would result in data being inconsistent. Here we need to apply Normalization.\n"
   ]
  },
  {
   "cell_type": "markdown",
   "id": "f51c7fa3",
   "metadata": {},
   "source": [
    "What is supervised and unsupervised \n",
    "learning? Give some examples "
   ]
  },
  {
   "cell_type": "code",
   "execution_count": 4,
   "id": "deab584b",
   "metadata": {},
   "outputs": [],
   "source": [
    "# Supervised Learning\n",
    "#It is a machine learning approach which is defined by its use of datasets.\n",
    "#Supervised Learning can be divided into Classification and regression.\n",
    "# Eg: Spam detection, Text Recognition\n",
    "# Unsupervised Learning\n",
    "#In Unsupervised Learning no training is given to Machine.\n",
    "#Eg: Social Network Analysis, Astronomical Data Analysis"
   ]
  },
  {
   "cell_type": "code",
   "execution_count": 5,
   "id": "cdcf2b89",
   "metadata": {},
   "outputs": [],
   "source": [
    "#Change the path of the file location appropriately\n",
    "\n",
    "df = pd.read_csv(r\"C:\\Users\\SARVESH SAWANT\\Desktop\\WorldRecords_1.csv\",encoding = 'latin')"
   ]
  },
  {
   "cell_type": "code",
   "execution_count": 6,
   "id": "f15e14f7",
   "metadata": {},
   "outputs": [
    {
     "name": "stdout",
     "output_type": "stream",
     "text": [
      "<class 'pandas.core.frame.DataFrame'>\n",
      "(285, 7)\n",
      "285\n",
      "       Event  Type  Record         Athlete    Nationality  \\\n",
      "0  Mens 100m  time   10.06       Bob Hayes  United States   \n",
      "1  Mens 100m  time   10.03       Jim Hines  United States   \n",
      "2  Mens 100m  time   10.02  Charles Greene  United States   \n",
      "3  Mens 100m  time    9.95       Jim Hines  United States   \n",
      "4  Mens 100m  time    9.93    Calvin Smith  United States   \n",
      "\n",
      "                Location  Year  \n",
      "0           Tokyo, Japan  1964  \n",
      "1        Sacramento, USA  1968  \n",
      "2    Mexico City, Mexico  1968  \n",
      "3    Mexico City, Mexico  1968  \n",
      "4  Colorado Springs, USA  1983  \n",
      "              Event      Type  Record             Athlete Nationality  \\\n",
      "280  Womens Shotput  distance   22.36     Ilona Slupianek         GDR   \n",
      "281  Womens Shotput  distance   22.45     Ilona Slupianek         GDR   \n",
      "282  Womens Shotput  distance   22.53  Natalya Lisovskaya         URS   \n",
      "283  Womens Shotput  distance   22.60  Natalya Lisovskaya         URS   \n",
      "284  Womens Shotput  distance   22.63  Natalya Lisovskaya         URS   \n",
      "\n",
      "                  Location  Year  \n",
      "280      Celje, Yugoslavia  1980  \n",
      "281  Potsdam, East Germany  1980  \n",
      "282    Sochi, Soviet Union  1984  \n",
      "283   Moscow, Soviet Union  1987  \n",
      "284   Moscow, Soviet Union  1987  \n",
      "<class 'pandas.core.frame.DataFrame'>\n",
      "RangeIndex: 285 entries, 0 to 284\n",
      "Data columns (total 7 columns):\n",
      " #   Column       Non-Null Count  Dtype  \n",
      "---  ------       --------------  -----  \n",
      " 0   Event        285 non-null    object \n",
      " 1   Type         285 non-null    object \n",
      " 2   Record       285 non-null    float64\n",
      " 3   Athlete      285 non-null    object \n",
      " 4   Nationality  285 non-null    object \n",
      " 5   Location     285 non-null    object \n",
      " 6   Year         285 non-null    int64  \n",
      "dtypes: float64(1), int64(1), object(5)\n",
      "memory usage: 15.7+ KB\n",
      "None\n",
      "<bound method NDFrame.describe of               Event      Type  Record             Athlete    Nationality  \\\n",
      "0         Mens 100m      time   10.06           Bob Hayes  United States   \n",
      "1         Mens 100m      time   10.03           Jim Hines  United States   \n",
      "2         Mens 100m      time   10.02      Charles Greene  United States   \n",
      "3         Mens 100m      time    9.95           Jim Hines  United States   \n",
      "4         Mens 100m      time    9.93        Calvin Smith  United States   \n",
      "..              ...       ...     ...                 ...            ...   \n",
      "280  Womens Shotput  distance   22.36     Ilona Slupianek            GDR   \n",
      "281  Womens Shotput  distance   22.45     Ilona Slupianek            GDR   \n",
      "282  Womens Shotput  distance   22.53  Natalya Lisovskaya            URS   \n",
      "283  Womens Shotput  distance   22.60  Natalya Lisovskaya            URS   \n",
      "284  Womens Shotput  distance   22.63  Natalya Lisovskaya            URS   \n",
      "\n",
      "                  Location  Year  \n",
      "0             Tokyo, Japan  1964  \n",
      "1          Sacramento, USA  1968  \n",
      "2      Mexico City, Mexico  1968  \n",
      "3      Mexico City, Mexico  1968  \n",
      "4    Colorado Springs, USA  1983  \n",
      "..                     ...   ...  \n",
      "280      Celje, Yugoslavia  1980  \n",
      "281  Potsdam, East Germany  1980  \n",
      "282    Sochi, Soviet Union  1984  \n",
      "283   Moscow, Soviet Union  1987  \n",
      "284   Moscow, Soviet Union  1987  \n",
      "\n",
      "[285 rows x 7 columns]>\n"
     ]
    }
   ],
   "source": [
    "'''  \n",
    "Q1 print the basic information about the data set\n",
    "'''\n",
    "# type of the dataframe:\n",
    "print(type(df))\n",
    "# dimensions of a dataframe:\n",
    "print(df.shape)\n",
    "# number of rows in the dataframe:\n",
    "print(len(df))\n",
    "# first few rows of the dataframe:\n",
    "print(df.head())    \n",
    "# last few rows of the dataframe:\n",
    "print(df.tail())\n",
    "# concise summary of the dataframe:\n",
    "print(df.info())\n",
    "# statistical summary of the dataframe:\n",
    "print(df.describe)\n"
   ]
  },
  {
   "cell_type": "code",
   "execution_count": 7,
   "id": "cb95fbb5",
   "metadata": {},
   "outputs": [
    {
     "name": "stdout",
     "output_type": "stream",
     "text": [
      "The types of events are: ['Mens 100m' 'Womens 100m' 'Mens 800m' 'Womens 800m' 'Mens TripleJump'\n",
      " 'Mens Mile' 'Womens Mile' 'Mens Polevault' 'Mens Shotput'\n",
      " 'Womens Shotput']\n",
      "Total no of events: 10\n"
     ]
    }
   ],
   "source": [
    "'''\n",
    "Q2 How many different types of events (e.g. “Mens 100m”, “Womens shotput” etc) are represented in the dataset\n",
    "'''\n",
    "different_events=df.Event.unique()\n",
    "print(\"The types of events are:\",different_events)\n",
    "\n",
    "total_no_of_events=df.Event.nunique()\n",
    "print(\"Total no of events:\",total_no_of_events)"
   ]
  },
  {
   "cell_type": "code",
   "execution_count": 8,
   "id": "df96e7a4",
   "metadata": {},
   "outputs": [
    {
     "name": "stdout",
     "output_type": "stream",
     "text": [
      "        Event  Type  Record     Athlete Nationality       Location  Year\n",
      "14  Mens 100m  time    9.72  Usain Bolt     Jamaica  New York, USA  2008\n",
      "Usain Bolt broke the world record for Mens 100m:     2008\n",
      "Name: Year, dtype: int64\n"
     ]
    }
   ],
   "source": [
    "'''\n",
    "Q3. In what year did Usain Bolt first break the world record for the Men’s 100m?\n",
    "\n",
    "'''\n",
    "\n",
    "r = df.loc[df['Athlete'] == 'Usain Bolt'].head(1)\n",
    "print(r)\n",
    "r.index = ['']\n",
    "print('Usain Bolt broke the world record for Mens 100m:',r['Year'])"
   ]
  },
  {
   "cell_type": "code",
   "execution_count": 9,
   "id": "c376eaaa",
   "metadata": {},
   "outputs": [
    {
     "name": "stdout",
     "output_type": "stream",
     "text": [
      "              Event      Type  Record             Athlete Nationality  \\\n",
      "205    Mens Shotput  distance   17.68    Charlie Fonville         USA   \n",
      "206    Mens Shotput  distance   17.79           Jim Fuchs         USA   \n",
      "207    Mens Shotput  distance   17.82           Jim Fuchs         USA   \n",
      "208    Mens Shotput  distance   17.90           Jim Fuchs         USA   \n",
      "209    Mens Shotput  distance   17.95           Jim Fuchs         USA   \n",
      "..              ...       ...     ...                 ...         ...   \n",
      "280  Womens Shotput  distance   22.36     Ilona Slupianek         GDR   \n",
      "281  Womens Shotput  distance   22.45     Ilona Slupianek         GDR   \n",
      "282  Womens Shotput  distance   22.53  Natalya Lisovskaya         URS   \n",
      "283  Womens Shotput  distance   22.60  Natalya Lisovskaya         URS   \n",
      "284  Womens Shotput  distance   22.63  Natalya Lisovskaya         URS   \n",
      "\n",
      "                  Location  Year  \n",
      "205         Lawrence, U.S.  1948  \n",
      "206           Oslo, Norway  1949  \n",
      "207      Los Angeles, U.S.  1950  \n",
      "208          Visby, Sweden  1950  \n",
      "209     Eskilstuna, Sweden  1950  \n",
      "..                     ...   ...  \n",
      "280      Celje, Yugoslavia  1980  \n",
      "281  Potsdam, East Germany  1980  \n",
      "282    Sochi, Soviet Union  1984  \n",
      "283   Moscow, Soviet Union  1987  \n",
      "284   Moscow, Soviet Union  1987  \n",
      "\n",
      "[80 rows x 7 columns]\n"
     ]
    }
   ],
   "source": [
    "'''\n",
    "Q4.Create a subset of the dataset that contains only the world record cases for men’s shotput and women’s shotput\n",
    "\n",
    "'''\n",
    "\n",
    "c = df[(df['Event'] =='Mens Shotput') | (df['Event'] =='Womens Shotput')]\n",
    "print(c)"
   ]
  },
  {
   "cell_type": "code",
   "execution_count": 10,
   "id": "5353717c",
   "metadata": {},
   "outputs": [
    {
     "data": {
      "image/png": "[encoded data removed]",
      "text/plain": [
       "<Figure size 432x288 with 1 Axes>"
      ]
     },
     "metadata": {
      "needs_background": "light"
     },
     "output_type": "display_data"
    },
    {
     "data": {
      "image/png": "[encoded data removed]",
      "text/plain": [
       "<Figure size 432x288 with 1 Axes>"
      ]
     },
     "metadata": {
      "needs_background": "light"
     },
     "output_type": "display_data"
    }
   ],
   "source": [
    "'''\n",
    "Q5 Create a scatter plot of the year and record shotput distance one for men and one for women.\n",
    "\n",
    "'''\n",
    "\n",
    "Women_Shotput_Distance = df[df['Event'] == \"Womens Shotput\"]\n",
    "plt.scatter(Women_Shotput_Distance['Year'], Women_Shotput_Distance['Record'])\n",
    "plt.show()\n",
    "\n",
    "Men_Shotput_Distance = df[df['Event'] == \"Mens Shotput\"]\n",
    "plt.scatter(Men_Shotput_Distance['Year'], Men_Shotput_Distance['Record'])\n",
    "plt.show()"
   ]
  },
  {
   "cell_type": "code",
   "execution_count": 11,
   "id": "b6059585",
   "metadata": {},
   "outputs": [
    {
     "name": "stdout",
     "output_type": "stream",
     "text": [
      "Average/Mean Time:/n  Event\n",
      "Mens 100m            9.848824\n",
      "Mens 800m          105.345833\n",
      "Mens Mile          237.493750\n",
      "Mens Polevault       5.608909\n",
      "Mens Shotput        20.194872\n",
      "Mens TripleJump     16.671200\n",
      "Womens 100m         10.880000\n",
      "Womens 800m        127.851724\n",
      "Womens Mile        263.653846\n",
      "Womens Shotput      19.139756\n",
      "Name: Record, dtype: float64\n",
      "Count of Athletes having more time than average in Mens 100m: 9\n",
      "Count of Athletes having more time than average in Mens 800m: 10\n",
      "Count of Athletes having more time than average in Mens Mile: 15\n",
      "Count of Athletes having more time than average in Mens Polevault: 31\n",
      "Count of Athletes having more time than average in Mens Shotput: 16\n",
      "Count of Athletes having more time than average in Mens TripleJump: 12\n",
      "Count of Athletes having more time than average in Womens 100m: 6\n",
      "Count of Athletes having more time than average in Womens 800m: 13\n",
      "Count of Athletes having more time than average in Womens Mile: 5\n",
      "Count of Athletes having more time than average in Womens Shotput: 21\n"
     ]
    }
   ],
   "source": [
    "'''\n",
    "Q6 Find the average/mean  time for each event. How many athletes have time more than average in each event.\n",
    "'''\n",
    "\n",
    "AM = df['Record'].groupby(df['Event'])\n",
    "mean_time = AM.mean()\n",
    "print(\"Average/Mean Time:/n \", mean_time)\n",
    "\n",
    "\n",
    "for event, record in AM:\n",
    "    count = 0\n",
    "    sum1 = sum(rec > mean_time[event] for rec in record)\n",
    "    count += sum1\n",
    "    print(f\"Count of Athletes having more time than average in {event}: {count}\")"
   ]
  },
  {
   "cell_type": "code",
   "execution_count": 12,
   "id": "5c30ad84",
   "metadata": {},
   "outputs": [
    {
     "name": "stdout",
     "output_type": "stream",
     "text": [
      "               Event  Type  Record    Nationality      Location  Year\n",
      "Athlete                                                              \n",
      "Bob Hayes  Mens 100m  time   10.06  United States  Tokyo, Japan  1964\n",
      "                   Event  Type  Record    Nationality             Location  \\\n",
      "Athlete                                                                      \n",
      "Wyomia Tyus  Womens 100m  time   11.07  United States  Mexico City, Mexico   \n",
      "\n",
      "             Year  \n",
      "Athlete            \n",
      "Wyomia Tyus  1968  \n",
      "                        Event  Type  Record Nationality       Location  Year\n",
      "Athlete                                                                     \n",
      "Georgette Lenoir  Womens 800m  time   150.4         FRA  Paris, France  1922\n",
      "                           Event  Type  Record     Nationality Location  Year\n",
      "Athlete                                                                      \n",
      "Anne Rosemary Smith  Womens Mile  time   277.0  United Kingdom   London  1967\n"
     ]
    }
   ],
   "source": [
    "'''\n",
    "Q7 Select the athlete who took most time in men’s 100m  and women’s event.\n",
    "'''\n",
    "\n",
    "print(df[df['Event'] == (\"Mens 100m\")].groupby('Athlete').max().sort_values('Record').tail(1))\n",
    "# to find the most time taken in womens 100m race:\n",
    "print(df[df['Event'] == (\"Womens 100m\")].groupby('Athlete').max().sort_values('Record').tail(1))\n",
    "# As which event is not mentioned i will find out for womens 800m too:\n",
    "print(df[df['Event'] == (\"Womens 800m\")].groupby('Athlete').max().sort_values('Record').tail(1))\n",
    "# And Mile too\n",
    "print(df[df['Event'] == (\"Womens Mile\")].groupby('Athlete').max().sort_values('Record').tail(1))"
   ]
  },
  {
   "cell_type": "code",
   "execution_count": 13,
   "id": "eceb89a7",
   "metadata": {},
   "outputs": [
    {
     "name": "stdout",
     "output_type": "stream",
     "text": [
      "        Event  Type  Record         Athlete    Nationality  \\\n",
      "0   Mens 100m  time   10.06       Bob Hayes  United States   \n",
      "1   Mens 100m  time   10.03       Jim Hines  United States   \n",
      "2   Mens 100m  time   10.02  Charles Greene  United States   \n",
      "3   Mens 100m  time    9.95       Jim Hines  United States   \n",
      "4   Mens 100m  time    9.93    Calvin Smith  United States   \n",
      "5   Mens 100m  time    9.92      Carl Lewis  United States   \n",
      "6   Mens 100m  time    9.90   Leroy Burrell  United States   \n",
      "7   Mens 100m  time    9.86      Carl Lewis  United States   \n",
      "8   Mens 100m  time    9.85   Leroy Burrell  United States   \n",
      "9   Mens 100m  time    9.84  Donovan Bailey         Canada   \n",
      "10  Mens 100m  time    9.79  Maurice Greene  United States   \n",
      "11  Mens 100m  time    9.78  Tim Montgomery  United States   \n",
      "12  Mens 100m  time    9.77    Asafa Powell        Jamaica   \n",
      "13  Mens 100m  time    9.74    Asafa Powell        Jamaica   \n",
      "14  Mens 100m  time    9.72      Usain Bolt        Jamaica   \n",
      "15  Mens 100m  time    9.69      Usain Bolt        Jamaica   \n",
      "16  Mens 100m  time    9.58      Usain Bolt        Jamaica   \n",
      "\n",
      "                 Location  Year  \n",
      "0            Tokyo, Japan  1964  \n",
      "1         Sacramento, USA  1968  \n",
      "2     Mexico City, Mexico  1968  \n",
      "3     Mexico City, Mexico  1968  \n",
      "4   Colorado Springs, USA  1983  \n",
      "5      Seoul, South Korea  1988  \n",
      "6           New York, USA  1991  \n",
      "7            Tokyo, Japan  1991  \n",
      "8   Lausanne, Switzerland  1994  \n",
      "9            Atlanta, USA  1996  \n",
      "10         Athens, Greece  1999  \n",
      "11          Paris, France  2002  \n",
      "12         Athens, Greece  2005  \n",
      "13           Rieti, Italy  2007  \n",
      "14          New York, USA  2008  \n",
      "15         Beijing, China  2008  \n",
      "16        Berlin, Germany  2009  \n",
      "The country that won maximum mens 100m : United States\n"
     ]
    }
   ],
   "source": [
    "'''\n",
    "Q8 Which country won maximum times of men’s 100m event?\n",
    "\n",
    "'''\n",
    "\n",
    "cf = df.loc[(df['Event'] =='Mens 100m')]\n",
    "print(cf)\n",
    "\n",
    "\n",
    "j = cf['Record'].idxmax()\n",
    "print('The country that won maximum mens 100m :', cf['Nationality'][j])"
   ]
  },
  {
   "cell_type": "code",
   "execution_count": 14,
   "id": "161ee57e",
   "metadata": {},
   "outputs": [
    {
     "name": "stdout",
     "output_type": "stream",
     "text": [
      "<pandas.core.groupby.generic.DataFrameGroupBy object at 0x000002B2C6A8BCA0>\n"
     ]
    },
    {
     "data": {
      "text/plain": [
       "Event\n",
       "Mens 100m          17\n",
       "Mens 800m          24\n",
       "Mens Mile          32\n",
       "Mens Polevault     55\n",
       "Mens Shotput       39\n",
       "Mens TripleJump    25\n",
       "Womens 100m        10\n",
       "Womens 800m        29\n",
       "Womens Mile        13\n",
       "Womens Shotput     41\n",
       "dtype: int64"
      ]
     },
     "execution_count": 14,
     "metadata": {},
     "output_type": "execute_result"
    }
   ],
   "source": [
    "'''\n",
    "Q9 How many athletes are there in each event?\n",
    "\n",
    "'''\n",
    "\n",
    "ae = df.groupby('Event')\n",
    "print(ae)\n",
    "ae.size()"
   ]
  }
 ],
 "metadata": {
  "kernelspec": {
   "display_name": "Python 3 (ipykernel)",
   "language": "python",
   "name": "python3"
  },
  "language_info": {
   "codemirror_mode": {
    "name": "ipython",
    "version": 3
   },
   "file_extension": ".py",
   "mimetype": "text/x-python",
   "name": "python",
   "nbconvert_exporter": "python",
   "pygments_lexer": "ipython3",
   "version": "3.9.12"
  }
 },
 "nbformat": 4,
 "nbformat_minor": 5
}
